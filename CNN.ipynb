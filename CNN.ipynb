{
 "cells": [
  {
   "cell_type": "code",
   "execution_count": 1,
   "id": "2958b895",
   "metadata": {},
   "outputs": [],
   "source": [
    "#importing libraries for loading images and processing the data"
   ]
  },
  {
   "cell_type": "code",
   "execution_count": 2,
   "id": "5c0a1431",
   "metadata": {},
   "outputs": [],
   "source": [
    "#class-function structure\n",
    "class CNN:\n",
    "    \n",
    "    def __init__(self,data):\n",
    "        \n",
    "        self.data=data\n",
    "    \n",
    "    def convolution2D(self,f):\n",
    "        #Convolution Layer        \n",
    "        image_height, image_width = len(self.data), len(self.data[0])\n",
    "        filter_height, filter_width = len(f), len(f[0])\n",
    "\n",
    "        # Calculate the dimensions of the output feature map\n",
    "        output_height = image_height - filter_height + 1\n",
    "        output_width = image_width - filter_width + 1\n",
    "        #Ouput feature map is initialized as an array od 0s\n",
    "        output_feature_map = [[0 for i in range(output_width)] for j in range(output_height)]\n",
    "        \n",
    "        for i in range(output_height):\n",
    "            for j in range(output_width):\n",
    "                input_patch = [input_image[i + m][j + n] for m in range(filter_height) for n in range(filter_width)]\n",
    "            \n",
    "            # Perform the dot product between the filter and the input patch\n",
    "                output_feature_map[i][j] = sum(input_patch[m * filter_width + n] * filter[m][n]\n",
    "                                          for m in range(filter_height) for n in range(filter_width))\n",
    "        \n",
    "        return output_feature_map\n",
    "    \n",
    "    def relu(self,input_feature_map):\n",
    "        #Relu applied on Convolution layer\n",
    "        relu = [[0 for i in range(len(input_feature_map[0]))] for j in range(len(input_feature_map))]\n",
    "\n",
    "        for i in range(len(input_feature_map)):\n",
    "            for j in range(len(input_feature_map[0])):\n",
    "                relu[i][j]=max(0,input_feature_map[i][j])\n",
    "                \n",
    "        return relu[i][j]\n",
    "                \n",
    "    def Maxpooling2D(self,input_feature_map):\n",
    "        #Assuming stride as 2 and pooling layer as (2,2)\n",
    "        #Maxpooling Layer\n",
    "        output_feature_map = [[0 for i in range(2)] for j in range(2)]\n",
    "        \n",
    "        for i in range(2):\n",
    "            for j in range(2):\n",
    "                \n",
    "                pool_window = [input_feature_map[i * 2 + m][j * 2 + n]\n",
    "                           for m in range(2) for n in range(2)]\n",
    "\n",
    "            # Find the maximum value in the pooling window\n",
    "                max_value = max(pool_window)\n",
    "                \n",
    "                output_feature_map[i][j]=max_value\n",
    "        \n",
    "        return output_feature_map\n",
    "    \n",
    "    def flatten(self,feature_map):\n",
    "        #Flattening the tensor into 1D Array\n",
    "        flattened_vector = np.array(feature_map).flatten()\n",
    "        return flattened_vector\n",
    "    \n",
    "    def dense(self,input_vector,weights,bias):\n",
    "        #Dense Layer\n",
    "        weighted_sum = numpy.dot(weights, input_vector)\n",
    "    \n",
    "        # Add the bias to the weighted sum\n",
    "         output_vector = weighted_sum + bias\n",
    "    \n",
    "         return output_vector\n",
    "\n",
    "    def softmax(self,flattened_vector):\n",
    "        #Output/Softmax layer\n",
    "        exp_logits = [math.exp(logit) for logit in flatenned_vector]\n",
    "        sum_exp_logits = sum(exp_logits)\n",
    "        softmax_probs = [exp_logit / sum_exp_logits for exp_logit in exp_logits]\n",
    "        return softmax_probs        "
   ]
  },
  {
   "cell_type": "code",
   "execution_count": null,
   "id": "21f10f30",
   "metadata": {},
   "outputs": [],
   "source": [
    "#image data pre-processing"
   ]
  },
  {
   "cell_type": "code",
   "execution_count": null,
   "id": "47a9dc2d",
   "metadata": {},
   "outputs": [],
   "source": [
    "#Testing\n",
    "#image data after processing as input for convolution2D()\n",
    "#data from convolution2D as input for ReLu()\n",
    "#data from ReLu as input for Maxpooling data"
   ]
  }
 ],
 "metadata": {
  "kernelspec": {
   "display_name": "Python 3 (ipykernel)",
   "language": "python",
   "name": "python3"
  },
  "language_info": {
   "codemirror_mode": {
    "name": "ipython",
    "version": 3
   },
   "file_extension": ".py",
   "mimetype": "text/x-python",
   "name": "python",
   "nbconvert_exporter": "python",
   "pygments_lexer": "ipython3",
   "version": "3.10.9"
  }
 },
 "nbformat": 4,
 "nbformat_minor": 5
}

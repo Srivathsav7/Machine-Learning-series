{
 "cells": [
  {
   "cell_type": "code",
   "execution_count": 1,
   "id": "8cae0f30",
   "metadata": {},
   "outputs": [],
   "source": [
    "#Importing libraries\n",
    "import pandas as pd\n",
    "import matplotlib.pyplot as plt\n",
    "import numpy as np"
   ]
  },
  {
   "cell_type": "code",
   "execution_count": 31,
   "id": "f06e9f1b",
   "metadata": {},
   "outputs": [],
   "source": [
    "#SVM for non-linearly seperable data\n",
    "class SVM:\n",
    "    \n",
    "    def __init__(self,X,y,learningRate = 0.00001, \n",
    "                 lamdaParam = 0.001, nIters = 100):\n",
    "        \n",
    "        self.X=X\n",
    "        self.y=y\n",
    "        self.learningRate=learningRate\n",
    "        self.lamdaParam=lamdaParam\n",
    "        self.nIters=nIters\n",
    "    \n",
    "    def fit(self, X, y):\n",
    "\n",
    "        nSamples, nFeatures = X.shape\n",
    "\n",
    "        self.w = np.zeros(nFeatures)\n",
    "        self.b = 0\n",
    "\n",
    "        for _ in range(self.nIters):\n",
    "            for idx, x_i in enumerate(X):\n",
    "                condition = y[idx] * (np.dot(x_i, self.w) + self.b) >= 1\n",
    "\n",
    "                if condition:\n",
    "                    self.w -= self.learningRate * (2 * self.lamdaParam * self.w)\n",
    "                else:\n",
    "                    self.w -= self.learningRate * (2 * self.lamdaParam * self.w - y[idx] * x_i)\n",
    "                    self.b -= self.learningRate * (-y[idx])\n",
    "\n",
    "    def predict(self, X):\n",
    "        \"\"\"Function to predict\"\"\"\n",
    "        approx = np.dot(X, self.w) + self.b\n",
    "        \n",
    "        return np.sign(approx)\n"
   ]
  },
  {
   "cell_type": "code",
   "execution_count": 27,
   "id": "c95b0af5",
   "metadata": {},
   "outputs": [
    {
     "data": {
      "text/html": [
       "<div>\n",
       "<style scoped>\n",
       "    .dataframe tbody tr th:only-of-type {\n",
       "        vertical-align: middle;\n",
       "    }\n",
       "\n",
       "    .dataframe tbody tr th {\n",
       "        vertical-align: top;\n",
       "    }\n",
       "\n",
       "    .dataframe thead th {\n",
       "        text-align: right;\n",
       "    }\n",
       "</style>\n",
       "<table border=\"1\" class=\"dataframe\">\n",
       "  <thead>\n",
       "    <tr style=\"text-align: right;\">\n",
       "      <th></th>\n",
       "      <th>feature1</th>\n",
       "      <th>feature2</th>\n",
       "      <th>class</th>\n",
       "    </tr>\n",
       "  </thead>\n",
       "  <tbody>\n",
       "    <tr>\n",
       "      <th>0</th>\n",
       "      <td>12</td>\n",
       "      <td>2</td>\n",
       "      <td>1</td>\n",
       "    </tr>\n",
       "    <tr>\n",
       "      <th>1</th>\n",
       "      <td>12</td>\n",
       "      <td>4</td>\n",
       "      <td>0</td>\n",
       "    </tr>\n",
       "    <tr>\n",
       "      <th>2</th>\n",
       "      <td>9</td>\n",
       "      <td>5</td>\n",
       "      <td>0</td>\n",
       "    </tr>\n",
       "    <tr>\n",
       "      <th>3</th>\n",
       "      <td>8</td>\n",
       "      <td>6</td>\n",
       "      <td>0</td>\n",
       "    </tr>\n",
       "    <tr>\n",
       "      <th>4</th>\n",
       "      <td>9</td>\n",
       "      <td>7</td>\n",
       "      <td>1</td>\n",
       "    </tr>\n",
       "  </tbody>\n",
       "</table>\n",
       "</div>"
      ],
      "text/plain": [
       "   feature1  feature2  class\n",
       "0        12         2      1\n",
       "1        12         4      0\n",
       "2         9         5      0\n",
       "3         8         6      0\n",
       "4         9         7      1"
      ]
     },
     "execution_count": 27,
     "metadata": {},
     "output_type": "execute_result"
    }
   ],
   "source": [
    "#Data prep\n",
    "df=pd.read_excel('sample.xlsx')\n",
    "df.head()"
   ]
  },
  {
   "cell_type": "code",
   "execution_count": 28,
   "id": "6285ab43",
   "metadata": {},
   "outputs": [],
   "source": [
    "#Dividing the data into Features and Labels\n",
    "X=np.array(df[['feature1','feature2']])\n",
    "y=np.array(df[['class']])\n",
    "y=y.ravel()"
   ]
  },
  {
   "cell_type": "code",
   "execution_count": 29,
   "id": "70d017f2",
   "metadata": {},
   "outputs": [
    {
     "data": {
      "image/png": "[encoded data removed]",
      "text/plain": [
       "<Figure size 640x480 with 1 Axes>"
      ]
     },
     "metadata": {},
     "output_type": "display_data"
    }
   ],
   "source": [
    "#Visulaizing the data to check if it is linearly seperable\n",
    "plt.scatter(df['feature1'], df['feature2'], c=df['class'])\n",
    "plt.title('Scatter plot of the data')\n",
    "plt.xlabel('Feature 1')\n",
    "plt.ylabel('Feature 2')\n",
    "plt.show()"
   ]
  },
  {
   "cell_type": "code",
   "execution_count": 32,
   "id": "2daa500a",
   "metadata": {},
   "outputs": [
    {
     "name": "stdout",
     "output_type": "stream",
     "text": [
      "[0.05299904 0.0389993 ]\n"
     ]
    }
   ],
   "source": [
    "clf = SVM(X, y)\n",
    "\n",
    "clf.fit(X, y)\n",
    "\n",
    "print(clf.w)"
   ]
  },
  {
   "cell_type": "code",
   "execution_count": null,
   "id": "26c3012d",
   "metadata": {},
   "outputs": [],
   "source": [
    "#this is just for working on the code and understanding the fundamentals of SVM, in reality, the data is not so simple and needs to be preprocessed"
   ]
  }
 ],
 "metadata": {
  "kernelspec": {
   "display_name": "Python 3 (ipykernel)",
   "language": "python",
   "name": "python3"
  },
  "language_info": {
   "codemirror_mode": {
    "name": "ipython",
    "version": 3
   },
   "file_extension": ".py",
   "mimetype": "text/x-python",
   "name": "python",
   "nbconvert_exporter": "python",
   "pygments_lexer": "ipython3",
   "version": "3.10.9"
  }
 },
 "nbformat": 4,
 "nbformat_minor": 5
}

{
 "cells": [
  {
   "cell_type": "code",
   "execution_count": 2,
   "id": "55656f7e",
   "metadata": {},
   "outputs": [],
   "source": [
    "#importing libraries\n",
    "import numpy as np\n",
    "import pandas as pd\n",
    "import math"
   ]
  },
  {
   "cell_type": "code",
   "execution_count": 78,
   "id": "9aaab564",
   "metadata": {},
   "outputs": [],
   "source": [
    "#program to create an ANN with back propogation algorithm\n",
    "class ANN:\n",
    "    \n",
    "    def __init__(self,X,y,w):\n",
    "        self.X=X\n",
    "        self.y=y\n",
    "        self.w=w\n",
    "        \n",
    "    def weights(self):\n",
    "        num_of_features=self.X.shape[1]\n",
    "        rows = self.X.shape[0]\n",
    "        cols = self.X.shape[1]\n",
    "        z = np.zeros((rows, cols))\n",
    "        for i in range(num_of_features):\n",
    "            z[:,i]=self.X[:,i]*self.w[i]\n",
    "        return z\n",
    "    \n",
    "    def sigmoid(self):\n",
    "        z=self.weights()\n",
    "        return 1/(1+np.exp(-z))\n",
    "    \n",
    "    def loss(self):\n",
    "        sigmoid_array = self.sigmoid()\n",
    "        y_pred = sigmoid_array[:, 0]\n",
    "        eps=1e-10\n",
    "        loss=- (1/5) * np.sum((self.y * np.log(y_pred+eps)) + (1 - self.y) * np.log(1 - y_pred+eps))\n",
    "        return loss\n",
    "    \n",
    "    def back_prop(self,n):\n",
    "        loss=self.loss()\n",
    "        y1=[]\n",
    "        epoch=1\n",
    "        for i in range(len(self.w)):\n",
    "            self.w[i]=(self.w[i] - (n*loss/self.w[i]))\n",
    "        return self.w\n",
    "            "
   ]
  },
  {
   "cell_type": "code",
   "execution_count": 3,
   "id": "727a9a20",
   "metadata": {},
   "outputs": [
    {
     "data": {
      "text/html": [
       "<div>\n",
       "<style scoped>\n",
       "    .dataframe tbody tr th:only-of-type {\n",
       "        vertical-align: middle;\n",
       "    }\n",
       "\n",
       "    .dataframe tbody tr th {\n",
       "        vertical-align: top;\n",
       "    }\n",
       "\n",
       "    .dataframe thead th {\n",
       "        text-align: right;\n",
       "    }\n",
       "</style>\n",
       "<table border=\"1\" class=\"dataframe\">\n",
       "  <thead>\n",
       "    <tr style=\"text-align: right;\">\n",
       "      <th></th>\n",
       "      <th>f1</th>\n",
       "      <th>f2</th>\n",
       "      <th>f3</th>\n",
       "      <th>Y</th>\n",
       "    </tr>\n",
       "  </thead>\n",
       "  <tbody>\n",
       "    <tr>\n",
       "      <th>0</th>\n",
       "      <td>23</td>\n",
       "      <td>12</td>\n",
       "      <td>15</td>\n",
       "      <td>0</td>\n",
       "    </tr>\n",
       "    <tr>\n",
       "      <th>1</th>\n",
       "      <td>24</td>\n",
       "      <td>33</td>\n",
       "      <td>16</td>\n",
       "      <td>1</td>\n",
       "    </tr>\n",
       "    <tr>\n",
       "      <th>2</th>\n",
       "      <td>25</td>\n",
       "      <td>12</td>\n",
       "      <td>23</td>\n",
       "      <td>1</td>\n",
       "    </tr>\n",
       "    <tr>\n",
       "      <th>3</th>\n",
       "      <td>25</td>\n",
       "      <td>11</td>\n",
       "      <td>24</td>\n",
       "      <td>0</td>\n",
       "    </tr>\n",
       "    <tr>\n",
       "      <th>4</th>\n",
       "      <td>26</td>\n",
       "      <td>24</td>\n",
       "      <td>25</td>\n",
       "      <td>1</td>\n",
       "    </tr>\n",
       "  </tbody>\n",
       "</table>\n",
       "</div>"
      ],
      "text/plain": [
       "   f1  f2  f3  Y\n",
       "0  23  12  15  0\n",
       "1  24  33  16  1\n",
       "2  25  12  23  1\n",
       "3  25  11  24  0\n",
       "4  26  24  25  1"
      ]
     },
     "execution_count": 3,
     "metadata": {},
     "output_type": "execute_result"
    }
   ],
   "source": [
    "df1=pd.read_excel('test_data.xlsx')\n",
    "df1.head()"
   ]
  },
  {
   "cell_type": "code",
   "execution_count": 4,
   "id": "6827dcf1",
   "metadata": {},
   "outputs": [],
   "source": [
    "X=np.array(df1[['f1','f2','f3']])\n",
    "y=np.array(df1[['Y']])\n",
    "y=y.ravel()"
   ]
  },
  {
   "cell_type": "code",
   "execution_count": 79,
   "id": "938dfb86",
   "metadata": {},
   "outputs": [],
   "source": [
    "rows = 5\n",
    "cols = 3\n",
    "z = np.zeros((rows, cols))\n",
    "w=[4,3,2]"
   ]
  },
  {
   "cell_type": "code",
   "execution_count": 88,
   "id": "20587184",
   "metadata": {},
   "outputs": [
    {
     "name": "stdout",
     "output_type": "stream",
     "text": [
      "[[ 61.48206451  10.44708683 368.69506416]\n",
      " [ 64.15519775  28.72948877 393.2747351 ]\n",
      " [ 66.82833099  10.44708683 565.33243171]\n",
      " [ 66.82833099   9.57649626 589.91210265]\n",
      " [ 69.50146423  20.89417365 614.49177359]]\n",
      "[1. 1. 1. 1. 1.]\n",
      "[[ 61.48206451  10.44708683 368.69506416]\n",
      " [ 64.15519775  28.72948877 393.2747351 ]\n",
      " [ 66.82833099  10.44708683 565.33243171]\n",
      " [ 66.82833099   9.57649626 589.91210265]\n",
      " [ 69.50146423  20.89417365 614.49177359]]\n",
      "[1. 1. 1. 1. 1.]\n"
     ]
    },
    {
     "data": {
      "text/plain": [
       "9.210340371916184"
      ]
     },
     "execution_count": 88,
     "metadata": {},
     "output_type": "execute_result"
    }
   ],
   "source": [
    "a=ANN(X,y,w1)\n",
    "z1=a.weights()\n",
    "l1=a.loss()\n",
    "w1=a.back_prop(0.1)\n",
    "l1"
   ]
  },
  {
   "cell_type": "code",
   "execution_count": 89,
   "id": "8a46c0bf",
   "metadata": {},
   "outputs": [
    {
     "data": {
      "text/plain": [
       "[2.328581002744751, -0.18735109745463208, 24.5421995699276]"
      ]
     },
     "execution_count": 89,
     "metadata": {},
     "output_type": "execute_result"
    }
   ],
   "source": [
    "w1"
   ]
  },
  {
   "cell_type": "code",
   "execution_count": null,
   "id": "bdd81582",
   "metadata": {},
   "outputs": [],
   "source": []
  }
 ],
 "metadata": {
  "kernelspec": {
   "display_name": "Python 3 (ipykernel)",
   "language": "python",
   "name": "python3"
  },
  "language_info": {
   "codemirror_mode": {
    "name": "ipython",
    "version": 3
   },
   "file_extension": ".py",
   "mimetype": "text/x-python",
   "name": "python",
   "nbconvert_exporter": "python",
   "pygments_lexer": "ipython3",
   "version": "3.9.12"
  }
 },
 "nbformat": 4,
 "nbformat_minor": 5
}
